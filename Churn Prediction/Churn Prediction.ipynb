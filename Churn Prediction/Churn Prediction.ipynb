{
 "cells": [
  {
   "cell_type": "code",
   "execution_count": 1,
   "metadata": {
    "collapsed": true
   },
   "outputs": [],
   "source": [
    "import numpy as np\n",
    "import pandas as pd\n",
    "import seaborn as sns\n",
    "import matplotlib.pyplot as plt\n",
    "\n",
    "%matplotlib inline"
   ]
  },
  {
   "cell_type": "code",
   "execution_count": 2,
   "metadata": {
    "collapsed": true
   },
   "outputs": [],
   "source": [
    "from sklearn.metrics import roc_auc_score\n",
    "from sklearn.model_selection import KFold\n",
    "from sklearn.ensemble import RandomForestClassifier\n",
    "from sklearn.model_selection import cross_val_score, cross_val_predict"
   ]
  },
  {
   "cell_type": "code",
   "execution_count": 3,
   "metadata": {
    "collapsed": true
   },
   "outputs": [],
   "source": [
    "churn = pd.read_csv('churn.csv')"
   ]
  },
  {
   "cell_type": "code",
   "execution_count": 4,
   "metadata": {
    "collapsed": false,
    "scrolled": true
   },
   "outputs": [
    {
     "data": {
      "text/html": [
       "<div>\n",
       "<table border=\"1\" class=\"dataframe\">\n",
       "  <thead>\n",
       "    <tr style=\"text-align: right;\">\n",
       "      <th></th>\n",
       "      <th>Unnamed: 0</th>\n",
       "      <th>State</th>\n",
       "      <th>Account Length</th>\n",
       "      <th>Area Code</th>\n",
       "      <th>Phone</th>\n",
       "      <th>Int'l Plan</th>\n",
       "      <th>VMail Plan</th>\n",
       "      <th>VMail Message</th>\n",
       "      <th>Day Mins</th>\n",
       "      <th>Day Calls</th>\n",
       "      <th>...</th>\n",
       "      <th>Eve Calls</th>\n",
       "      <th>Eve Charge</th>\n",
       "      <th>Night Mins</th>\n",
       "      <th>Night Calls</th>\n",
       "      <th>Night Charge</th>\n",
       "      <th>Intl Mins</th>\n",
       "      <th>Intl Calls</th>\n",
       "      <th>Intl Charge</th>\n",
       "      <th>CustServ Calls</th>\n",
       "      <th>Churn?</th>\n",
       "    </tr>\n",
       "  </thead>\n",
       "  <tbody>\n",
       "    <tr>\n",
       "      <th>0</th>\n",
       "      <td>0</td>\n",
       "      <td>KS</td>\n",
       "      <td>128</td>\n",
       "      <td>415</td>\n",
       "      <td>382-4657</td>\n",
       "      <td>no</td>\n",
       "      <td>yes</td>\n",
       "      <td>25</td>\n",
       "      <td>265.1</td>\n",
       "      <td>110</td>\n",
       "      <td>...</td>\n",
       "      <td>99</td>\n",
       "      <td>16.78</td>\n",
       "      <td>244.7</td>\n",
       "      <td>91</td>\n",
       "      <td>11.01</td>\n",
       "      <td>10.0</td>\n",
       "      <td>3</td>\n",
       "      <td>2.7</td>\n",
       "      <td>1</td>\n",
       "      <td>False.</td>\n",
       "    </tr>\n",
       "    <tr>\n",
       "      <th>1</th>\n",
       "      <td>1</td>\n",
       "      <td>OH</td>\n",
       "      <td>107</td>\n",
       "      <td>415</td>\n",
       "      <td>371-7191</td>\n",
       "      <td>no</td>\n",
       "      <td>yes</td>\n",
       "      <td>26</td>\n",
       "      <td>161.6</td>\n",
       "      <td>123</td>\n",
       "      <td>...</td>\n",
       "      <td>103</td>\n",
       "      <td>16.62</td>\n",
       "      <td>254.4</td>\n",
       "      <td>103</td>\n",
       "      <td>11.45</td>\n",
       "      <td>13.7</td>\n",
       "      <td>3</td>\n",
       "      <td>3.7</td>\n",
       "      <td>1</td>\n",
       "      <td>False.</td>\n",
       "    </tr>\n",
       "    <tr>\n",
       "      <th>2</th>\n",
       "      <td>2</td>\n",
       "      <td>NJ</td>\n",
       "      <td>137</td>\n",
       "      <td>415</td>\n",
       "      <td>358-1921</td>\n",
       "      <td>no</td>\n",
       "      <td>no</td>\n",
       "      <td>0</td>\n",
       "      <td>243.4</td>\n",
       "      <td>114</td>\n",
       "      <td>...</td>\n",
       "      <td>110</td>\n",
       "      <td>10.30</td>\n",
       "      <td>162.6</td>\n",
       "      <td>104</td>\n",
       "      <td>7.32</td>\n",
       "      <td>12.2</td>\n",
       "      <td>5</td>\n",
       "      <td>3.29</td>\n",
       "      <td>0</td>\n",
       "      <td>False.</td>\n",
       "    </tr>\n",
       "    <tr>\n",
       "      <th>3</th>\n",
       "      <td>3</td>\n",
       "      <td>OH</td>\n",
       "      <td>84</td>\n",
       "      <td>408</td>\n",
       "      <td>375-9999</td>\n",
       "      <td>yes</td>\n",
       "      <td>no</td>\n",
       "      <td>0</td>\n",
       "      <td>299.4</td>\n",
       "      <td>71</td>\n",
       "      <td>...</td>\n",
       "      <td>88</td>\n",
       "      <td>5.26</td>\n",
       "      <td>196.9</td>\n",
       "      <td>89</td>\n",
       "      <td>8.86</td>\n",
       "      <td>6.6</td>\n",
       "      <td>7</td>\n",
       "      <td>1.78</td>\n",
       "      <td>2</td>\n",
       "      <td>False.</td>\n",
       "    </tr>\n",
       "    <tr>\n",
       "      <th>4</th>\n",
       "      <td>4</td>\n",
       "      <td>OK</td>\n",
       "      <td>75</td>\n",
       "      <td>415</td>\n",
       "      <td>330-6626</td>\n",
       "      <td>yes</td>\n",
       "      <td>no</td>\n",
       "      <td>0</td>\n",
       "      <td>166.7</td>\n",
       "      <td>113</td>\n",
       "      <td>...</td>\n",
       "      <td>122</td>\n",
       "      <td>12.61</td>\n",
       "      <td>186.9</td>\n",
       "      <td>121</td>\n",
       "      <td>8.41</td>\n",
       "      <td>10.1</td>\n",
       "      <td>3</td>\n",
       "      <td>2.73</td>\n",
       "      <td>3</td>\n",
       "      <td>False.</td>\n",
       "    </tr>\n",
       "  </tbody>\n",
       "</table>\n",
       "<p>5 rows × 22 columns</p>\n",
       "</div>"
      ],
      "text/plain": [
       "   Unnamed: 0 State  Account Length Area Code     Phone Int'l Plan VMail Plan  \\\n",
       "0           0    KS             128       415  382-4657         no        yes   \n",
       "1           1    OH             107       415  371-7191         no        yes   \n",
       "2           2    NJ             137       415  358-1921         no         no   \n",
       "3           3    OH              84       408  375-9999        yes         no   \n",
       "4           4    OK              75       415  330-6626        yes         no   \n",
       "\n",
       "   VMail Message  Day Mins  Day Calls   ...   Eve Calls Eve Charge Night Mins  \\\n",
       "0             25     265.1        110   ...          99      16.78      244.7   \n",
       "1             26     161.6        123   ...         103      16.62      254.4   \n",
       "2              0     243.4        114   ...         110      10.30      162.6   \n",
       "3              0     299.4         71   ...          88       5.26      196.9   \n",
       "4              0     166.7        113   ...         122      12.61      186.9   \n",
       "\n",
       "   Night Calls  Night Charge  Intl Mins Intl Calls  Intl Charge  \\\n",
       "0           91         11.01       10.0          3          2.7   \n",
       "1          103         11.45       13.7          3          3.7   \n",
       "2          104          7.32       12.2          5         3.29   \n",
       "3           89          8.86        6.6          7         1.78   \n",
       "4          121          8.41       10.1          3         2.73   \n",
       "\n",
       "  CustServ Calls  Churn?  \n",
       "0              1  False.  \n",
       "1              1  False.  \n",
       "2              0  False.  \n",
       "3              2  False.  \n",
       "4              3  False.  \n",
       "\n",
       "[5 rows x 22 columns]"
      ]
     },
     "execution_count": 4,
     "metadata": {},
     "output_type": "execute_result"
    }
   ],
   "source": [
    "churn.head()"
   ]
  },
  {
   "cell_type": "markdown",
   "metadata": {},
   "source": [
    "### Check for Missing Values in Table '?' and Achieve 0.893+ AUC Using 10 Fold Cross - Validation"
   ]
  },
  {
   "cell_type": "code",
   "execution_count": 5,
   "metadata": {
    "collapsed": false
   },
   "outputs": [],
   "source": [
    "# Convert Data Type of Colums Having Missing Values to float64\n",
    "\n",
    "churn['Day Charge'] = churn['Day Charge'].apply(pd.to_numeric, errors='coerce')\n",
    "# ----------------------------------------------------------------------------------\n",
    "churn['Eve Mins'] = churn['Eve Mins'].apply(pd.to_numeric, errors='coerce')\n",
    "churn['Eve Calls'] = churn['Eve Calls'].apply(pd.to_numeric, errors='coerce')\n",
    "# ----------------------------------------------------------------------------------\n",
    "churn['Night Charge'] = churn['Night Charge'].apply(pd.to_numeric, errors='coerce')\n",
    "# ----------------------------------------------------------------------------------\n",
    "churn['Intl Calls'] = churn['Intl Calls'].apply(pd.to_numeric, errors='coerce')\n",
    "churn['Intl Charge'] = churn['Intl Charge'].apply(pd.to_numeric, errors='coerce')"
   ]
  },
  {
   "cell_type": "code",
   "execution_count": 6,
   "metadata": {
    "collapsed": false
   },
   "outputs": [],
   "source": [
    "# Replace Missing Values with Mean of Columns corresponding to Churn? Label\n",
    "\n",
    "churn['Day Charge'].fillna(churn.groupby('Churn?')['Day Charge'].transform(\"mean\"), inplace=True)\n",
    "# --------------------------------------------------------------------------------------------------\n",
    "churn['Eve Mins'].fillna(churn.groupby('Churn?')['Eve Mins'].transform(\"mean\"), inplace=True)\n",
    "churn['Eve Calls'].fillna(churn.groupby('Churn?')['Eve Calls'].transform(\"mean\"), inplace=True)\n",
    "# ---------------------------------------------------------------------------------------------------\n",
    "churn['Night Charge'].fillna(churn.groupby('Churn?')['Night Charge'].transform(\"mean\"), inplace=True)\n",
    "# ---------------------------------------------------------------------------------------------------\n",
    "churn['Intl Calls'].fillna(churn.groupby('Churn?')['Intl Calls'].transform(\"mean\"), inplace=True)\n",
    "churn['Intl Charge'].fillna(churn.groupby('Churn?')['Intl Charge'].transform(\"mean\"), inplace=True)"
   ]
  },
  {
   "cell_type": "code",
   "execution_count": 7,
   "metadata": {
    "collapsed": true
   },
   "outputs": [],
   "source": [
    "# Convert Output Of Label To Binary Form\n",
    "churn['Churn?'] = churn['Churn?'].apply(lambda x: 0 if x == 'False.' else 1)"
   ]
  },
  {
   "cell_type": "code",
   "execution_count": 8,
   "metadata": {
    "collapsed": false
   },
   "outputs": [],
   "source": [
    "# Initialize Input Features By Selecting Columns Having Continous Values\n",
    "X = churn[['Day Mins', 'Day Calls', 'Day Charge', 'Eve Mins', 'Eve Calls', 'Eve Charge', 'Night Mins', 'Night Calls', 'Night Charge', 'Intl Mins', 'Intl Calls', 'Intl Charge', 'CustServ Calls']]"
   ]
  },
  {
   "cell_type": "code",
   "execution_count": 9,
   "metadata": {
    "collapsed": false
   },
   "outputs": [],
   "source": [
    "# Initialize Output Label\n",
    "y = churn['Churn?']"
   ]
  },
  {
   "cell_type": "code",
   "execution_count": 10,
   "metadata": {
    "collapsed": true
   },
   "outputs": [],
   "source": [
    "# Initialize 10 Fold Cross-Validation Data Set\n",
    "num_folds = 10\n",
    "kfold = KFold(n_splits=num_folds, shuffle=True, random_state=None)"
   ]
  },
  {
   "cell_type": "code",
   "execution_count": 11,
   "metadata": {
    "collapsed": false
   },
   "outputs": [],
   "source": [
    "# Initialize Random Forest Parameters and Start Training the Model\n",
    "num_trees = 100\n",
    "max_features = 5\n",
    "model = RandomForestClassifier(n_estimators = num_trees, max_features=max_features)"
   ]
  },
  {
   "cell_type": "code",
   "execution_count": 12,
   "metadata": {
    "collapsed": true
   },
   "outputs": [],
   "source": [
    "# Compute K-Fold Cross Validation Using Random Forest Classifier \n",
    "results_predict = cross_val_predict(model, X, y, cv=kfold, method='predict_proba')"
   ]
  },
  {
   "cell_type": "code",
   "execution_count": 13,
   "metadata": {
    "collapsed": false
   },
   "outputs": [
    {
     "name": "stdout",
     "output_type": "stream",
     "text": [
      "ROC_AUC is 0.901\n"
     ]
    }
   ],
   "source": [
    "# Display Area Under Curve\n",
    "AUC = roc_auc_score(y,results_predict[:,1], average='macro')\n",
    "print('ROC_AUC is {0:.3f}'.format(AUC))"
   ]
  },
  {
   "cell_type": "code",
   "execution_count": 14,
   "metadata": {
    "collapsed": true
   },
   "outputs": [],
   "source": [
    "# Display Accuracy of Model\n",
    "# results = cross_val_score(model,X,y,cv=kfold)\n",
    "# print(\"Accuracy: \", results.mean()*100, \"+_\", results.std()*100)"
   ]
  }
 ],
 "metadata": {
  "anaconda-cloud": {},
  "kernelspec": {
   "display_name": "Python [Root]",
   "language": "python",
   "name": "Python [Root]"
  },
  "language_info": {
   "codemirror_mode": {
    "name": "ipython",
    "version": 3
   },
   "file_extension": ".py",
   "mimetype": "text/x-python",
   "name": "python",
   "nbconvert_exporter": "python",
   "pygments_lexer": "ipython3",
   "version": "3.5.2"
  }
 },
 "nbformat": 4,
 "nbformat_minor": 2
}
