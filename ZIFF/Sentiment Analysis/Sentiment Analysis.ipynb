{
 "cells": [
  {
   "cell_type": "code",
   "execution_count": 1,
   "metadata": {
    "collapsed": true
   },
   "outputs": [],
   "source": [
    "import numpy as np\n",
    "import pandas as pd"
   ]
  },
  {
   "cell_type": "code",
   "execution_count": 2,
   "metadata": {
    "collapsed": false
   },
   "outputs": [],
   "source": [
    "import seaborn as sns\n",
    "import matplotlib.pyplot as plt\n",
    "%matplotlib inline"
   ]
  },
  {
   "cell_type": "code",
   "execution_count": 3,
   "metadata": {
    "collapsed": false
   },
   "outputs": [],
   "source": [
    "twitter = pd.read_csv('sentiment.tsv', sep=\"\\t\",names=['Label','Tweet'])"
   ]
  },
  {
   "cell_type": "code",
   "execution_count": 4,
   "metadata": {
    "collapsed": false
   },
   "outputs": [
    {
     "data": {
      "text/html": [
       "<div>\n",
       "<table border=\"1\" class=\"dataframe\">\n",
       "  <thead>\n",
       "    <tr style=\"text-align: right;\">\n",
       "      <th></th>\n",
       "      <th>Label</th>\n",
       "      <th>Tweet</th>\n",
       "    </tr>\n",
       "  </thead>\n",
       "  <tbody>\n",
       "    <tr>\n",
       "      <th>0</th>\n",
       "      <td>neg</td>\n",
       "      <td>@jamielewislewis i cant believe it, it really ...</td>\n",
       "    </tr>\n",
       "    <tr>\n",
       "      <th>1</th>\n",
       "      <td>pos</td>\n",
       "      <td>having a vodka tonic and looking forward to go...</td>\n",
       "    </tr>\n",
       "    <tr>\n",
       "      <th>2</th>\n",
       "      <td>pos</td>\n",
       "      <td>@ddlovatofans1neg1 Could you follow me please....</td>\n",
       "    </tr>\n",
       "    <tr>\n",
       "      <th>3</th>\n",
       "      <td>pos</td>\n",
       "      <td>@jordanknight for once.................. PLEAS...</td>\n",
       "    </tr>\n",
       "    <tr>\n",
       "      <th>4</th>\n",
       "      <td>neg</td>\n",
       "      <td>Had a dream about a walk in fast food resturau...</td>\n",
       "    </tr>\n",
       "  </tbody>\n",
       "</table>\n",
       "</div>"
      ],
      "text/plain": [
       "  Label                                              Tweet\n",
       "0   neg  @jamielewislewis i cant believe it, it really ...\n",
       "1   pos  having a vodka tonic and looking forward to go...\n",
       "2   pos  @ddlovatofans1neg1 Could you follow me please....\n",
       "3   pos  @jordanknight for once.................. PLEAS...\n",
       "4   neg  Had a dream about a walk in fast food resturau..."
      ]
     },
     "execution_count": 4,
     "metadata": {},
     "output_type": "execute_result"
    }
   ],
   "source": [
    "twitter.head()"
   ]
  },
  {
   "cell_type": "code",
   "execution_count": 5,
   "metadata": {
    "collapsed": false
   },
   "outputs": [],
   "source": [
    "import string\n",
    "from nltk.corpus import stopwords"
   ]
  },
  {
   "cell_type": "code",
   "execution_count": 6,
   "metadata": {
    "collapsed": false
   },
   "outputs": [],
   "source": [
    "# Make A List of Words That Has To Be Removed \n",
    "stopset = set(stopwords.words('english')) - set(('over', 'under', 'below', 'more', 'most', 'no', 'not', 'only', 'such', 'few', 'so', 'too', 'very', 'just', 'any', 'once'))"
   ]
  },
  {
   "cell_type": "code",
   "execution_count": 7,
   "metadata": {
    "collapsed": true
   },
   "outputs": [],
   "source": [
    "from nltk.stem import PorterStemmer\n",
    "from nltk.stem import WordNetLemmatizer\n",
    "from nltk.tokenize import TweetTokenizer\n",
    "from nltk.sentiment.vader import SentimentIntensityAnalyzer"
   ]
  },
  {
   "cell_type": "code",
   "execution_count": 8,
   "metadata": {
    "collapsed": true
   },
   "outputs": [],
   "source": [
    "tknz = TweetTokenizer()\n",
    "stemmer = PorterStemmer()\n",
    "lemmatizer = WordNetLemmatizer()"
   ]
  },
  {
   "cell_type": "code",
   "execution_count": 9,
   "metadata": {
    "collapsed": false
   },
   "outputs": [],
   "source": [
    "# Function To Clean Tweet Of Unwanted Words\n",
    "\n",
    "def tweet_clean_process(tweet):\n",
    "        \n",
    "    # Remove Username and Http Links Present In Tweet\n",
    "    tweet = ' '.join([word.lower() for word in tweet.split() if 'http' not in word and not word.startswith('@')])\n",
    "    \n",
    "    # Tweet Tokenize the Text\n",
    "    tweet = ' '.join([word.lower() for word in tknz.tokenize(tweet)])\n",
    "                 \n",
    "    # Remove Punctations Present In Tweet\n",
    "    tweet = ''.join([char for char in tweet if char not in string.punctuation])\n",
    "            \n",
    "    # Lemmatize Tweet\n",
    "    tweet = ' '.join([lemmatizer.lemmatize(word) for word in tweet.split() ])\n",
    "   \n",
    "    # Stem Tweet\n",
    "    # tweet = ' '.join([stemmer.stem(word) for word in tweet.split() ])\n",
    "   \n",
    "    # Remove Stop Words Present In Tweet\n",
    "    tweet = ' '.join([word for word in tweet.split() if word not in stopset])\n",
    "\n",
    "    # Return Clean Tweet\n",
    "    return tweet"
   ]
  },
  {
   "cell_type": "code",
   "execution_count": 10,
   "metadata": {
    "collapsed": false
   },
   "outputs": [],
   "source": [
    "# Clean Tweets and Find Length of Each Tweet\n",
    "twitter['Tweet'] = twitter['Tweet'].apply(tweet_clean_process)\n",
    "twitter['Length'] = twitter['Tweet'].apply(len)"
   ]
  },
  {
   "cell_type": "code",
   "execution_count": 11,
   "metadata": {
    "collapsed": true
   },
   "outputs": [],
   "source": [
    "# Function To Classify Tweets Based On Its Compound Polarity Score\n",
    "def tweet_score_conversion(score):    \n",
    "    if score < 0:\n",
    "        return \"negative\"\n",
    "    elif score < 0.35:\n",
    "        return \"neutral\"\n",
    "    else:\n",
    "        return \"positive\""
   ]
  },
  {
   "cell_type": "code",
   "execution_count": 12,
   "metadata": {
    "collapsed": false
   },
   "outputs": [],
   "source": [
    "# Initialize Sentiment Analyzer To Find Polarity Of Tweet [Negative, Neutral, Postive]\n",
    "senti_analyzer = SentimentIntensityAnalyzer()\n",
    "tweet_score = [senti_analyzer.polarity_scores(i)['compound'] for i in twitter['Tweet'] ]"
   ]
  },
  {
   "cell_type": "code",
   "execution_count": 13,
   "metadata": {
    "collapsed": false
   },
   "outputs": [],
   "source": [
    "# Classify Tweet Based on Polarity Scores of Tweet\n",
    "tweet_results = [tweet_score_conversion(x) for x in tweet_score]"
   ]
  },
  {
   "cell_type": "code",
   "execution_count": 14,
   "metadata": {
    "collapsed": false
   },
   "outputs": [],
   "source": [
    "# Add Columns To Existing Data Frame Representing It's Compound Score And Sentiment\n",
    "twitter['Compound Score'] = pd.DataFrame(tweet_score)\n",
    "twitter['Sentiment'] = pd.DataFrame(tweet_results)"
   ]
  },
  {
   "cell_type": "code",
   "execution_count": 15,
   "metadata": {
    "collapsed": false
   },
   "outputs": [
    {
     "data": {
      "text/html": [
       "<div>\n",
       "<table border=\"1\" class=\"dataframe\">\n",
       "  <thead>\n",
       "    <tr style=\"text-align: right;\">\n",
       "      <th></th>\n",
       "      <th>Label</th>\n",
       "      <th>Tweet</th>\n",
       "      <th>Length</th>\n",
       "      <th>Compound Score</th>\n",
       "      <th>Sentiment</th>\n",
       "    </tr>\n",
       "  </thead>\n",
       "  <tbody>\n",
       "    <tr>\n",
       "      <th>0</th>\n",
       "      <td>neg</td>\n",
       "      <td>cant believe really doesnt belong hope doesnt ...</td>\n",
       "      <td>92</td>\n",
       "      <td>0.2135</td>\n",
       "      <td>neutral</td>\n",
       "    </tr>\n",
       "    <tr>\n",
       "      <th>1</th>\n",
       "      <td>pos</td>\n",
       "      <td>vodka tonic looking forward going saddle ranch...</td>\n",
       "      <td>75</td>\n",
       "      <td>0.0000</td>\n",
       "      <td>neutral</td>\n",
       "    </tr>\n",
       "    <tr>\n",
       "      <th>2</th>\n",
       "      <td>pos</td>\n",
       "      <td>could follow please would really appreciate</td>\n",
       "      <td>43</td>\n",
       "      <td>0.6478</td>\n",
       "      <td>positive</td>\n",
       "    </tr>\n",
       "    <tr>\n",
       "      <th>3</th>\n",
       "      <td>pos</td>\n",
       "      <td>once please tell u u thinking person</td>\n",
       "      <td>36</td>\n",
       "      <td>0.3182</td>\n",
       "      <td>neutral</td>\n",
       "    </tr>\n",
       "    <tr>\n",
       "      <th>4</th>\n",
       "      <td>neg</td>\n",
       "      <td>dream walk fast food resturaunt sold ice cream...</td>\n",
       "      <td>78</td>\n",
       "      <td>0.2500</td>\n",
       "      <td>neutral</td>\n",
       "    </tr>\n",
       "  </tbody>\n",
       "</table>\n",
       "</div>"
      ],
      "text/plain": [
       "  Label                                              Tweet  Length  \\\n",
       "0   neg  cant believe really doesnt belong hope doesnt ...      92   \n",
       "1   pos  vodka tonic looking forward going saddle ranch...      75   \n",
       "2   pos        could follow please would really appreciate      43   \n",
       "3   pos               once please tell u u thinking person      36   \n",
       "4   neg  dream walk fast food resturaunt sold ice cream...      78   \n",
       "\n",
       "   Compound Score Sentiment  \n",
       "0          0.2135   neutral  \n",
       "1          0.0000   neutral  \n",
       "2          0.6478  positive  \n",
       "3          0.3182   neutral  \n",
       "4          0.2500   neutral  "
      ]
     },
     "execution_count": 15,
     "metadata": {},
     "output_type": "execute_result"
    }
   ],
   "source": [
    "twitter.head()"
   ]
  },
  {
   "cell_type": "code",
   "execution_count": 16,
   "metadata": {
    "collapsed": false
   },
   "outputs": [
    {
     "data": {
      "text/plain": [
       "array([[<matplotlib.axes._subplots.AxesSubplot object at 0x0000015C613EEB00>,\n",
       "        <matplotlib.axes._subplots.AxesSubplot object at 0x0000015C614A1A58>],\n",
       "       [<matplotlib.axes._subplots.AxesSubplot object at 0x0000015C6159D8D0>,\n",
       "        <matplotlib.axes._subplots.AxesSubplot object at 0x0000015C615EB400>]], dtype=object)"
      ]
     },
     "execution_count": 16,
     "metadata": {},
     "output_type": "execute_result"
    },
    {
     "data": {
      "image/png": "[encoded data removed]",
      "text/plain": [
       "<matplotlib.figure.Figure at 0x15c5a8b66a0>"
      ]
     },
     "metadata": {},
     "output_type": "display_data"
    }
   ],
   "source": [
    "# Display Length Of Tweets Based On It's Sentiment\n",
    "twitter.hist(column='Length', by='Sentiment', bins=50,figsize=(12,4))"
   ]
  },
  {
   "cell_type": "markdown",
   "metadata": {},
   "source": [
    "### Achieve 0.803+ AUC Using 10 Fold Cross-Validation"
   ]
  },
  {
   "cell_type": "code",
   "execution_count": 17,
   "metadata": {
    "collapsed": false
   },
   "outputs": [],
   "source": [
    "from sklearn.pipeline import Pipeline\n",
    "\n",
    "from sklearn.multiclass import OneVsRestClassifier\n",
    "from sklearn.linear_model import LogisticRegression\n",
    "\n",
    "from sklearn.feature_extraction.text import CountVectorizer\n",
    "from sklearn.feature_extraction.text import  TfidfTransformer"
   ]
  },
  {
   "cell_type": "code",
   "execution_count": 18,
   "metadata": {
    "collapsed": false
   },
   "outputs": [],
   "source": [
    "from sklearn.metrics import roc_curve, auc\n",
    "from sklearn.preprocessing import label_binarize\n",
    "from sklearn.model_selection import train_test_split"
   ]
  },
  {
   "cell_type": "code",
   "execution_count": 19,
   "metadata": {
    "collapsed": true
   },
   "outputs": [],
   "source": [
    "from sklearn.model_selection import KFold\n",
    "from sklearn.model_selection import cross_val_predict"
   ]
  },
  {
   "cell_type": "code",
   "execution_count": 20,
   "metadata": {
    "collapsed": false
   },
   "outputs": [],
   "source": [
    "# Initialize Input Features and Output Label\n",
    "X = twitter['Tweet']\n",
    "y = twitter['Sentiment']"
   ]
  },
  {
   "cell_type": "code",
   "execution_count": 21,
   "metadata": {
    "collapsed": false
   },
   "outputs": [],
   "source": [
    "# Initialize 10 Fold Cross-Validation Data Set\n",
    "num_folds = 10\n",
    "kfold = KFold(n_splits=num_folds, shuffle=True, random_state=None)"
   ]
  },
  {
   "cell_type": "code",
   "execution_count": 22,
   "metadata": {
    "collapsed": false
   },
   "outputs": [],
   "source": [
    "# Initialize Pipeline \n",
    "### Initialize CountVectorizer To N-Gram Bag Of Words Consisiting of Different Combination of 1-5 characters\n",
    "### Initialize TfidfTransformer To Convert Integer Counts To Weighted TF-IDF scores\n",
    "### Initialize OneVsRestClassifier To Perform Text Classification Using LogisticRegression\n",
    "\n",
    "pipeline = Pipeline([\n",
    "    ('bow', CountVectorizer(analyzer='char_wb', ngram_range=(1,5), min_df = 1, max_features=25000)), \n",
    "    ('tfidf', TfidfTransformer(smooth_idf=True,sublinear_tf=True, use_idf=True)),  # integer counts to weighted TF-IDF scores\n",
    "    ('classifier', OneVsRestClassifier(LogisticRegression(solver='liblinear', dual=False, max_iter=50000, C=2, \\\n",
    "                fit_intercept=True, warm_start=True, tol=1e-5,multi_class='ovr' ))), \n",
    "]) \n"
   ]
  },
  {
   "cell_type": "code",
   "execution_count": 23,
   "metadata": {
    "collapsed": false
   },
   "outputs": [],
   "source": [
    "# Compute K-Fold Cross Validation Using Pipeline Initialized \n",
    "results_predict = cross_val_predict(pipeline, X, y, cv=kfold, method='predict_proba')"
   ]
  },
  {
   "cell_type": "code",
   "execution_count": 24,
   "metadata": {
    "collapsed": false
   },
   "outputs": [],
   "source": [
    "# 1 Hot Encoding Of Sentiment Column\n",
    "y = label_binarize(twitter['Sentiment'], classes=['negative','neutral','positive'])"
   ]
  },
  {
   "cell_type": "code",
   "execution_count": 25,
   "metadata": {
    "collapsed": false
   },
   "outputs": [],
   "source": [
    "# Reference To Compute ROC Curve and Area For Each Class\n",
    "# http://scikit-learn.org/stable/auto_examples/model_selection/plot_roc.html\n",
    "\n",
    "fpr = dict()\n",
    "tpr = dict()\n",
    "\n",
    "n_classes = 3\n",
    "roc_auc = dict()\n",
    "\n",
    "for i in range(n_classes):\n",
    "    fpr[i], tpr[i], _ = roc_curve(y[:, i], results_predict[:, i])\n",
    "    roc_auc[i] = auc(fpr[i], tpr[i])"
   ]
  },
  {
   "cell_type": "code",
   "execution_count": 26,
   "metadata": {
    "collapsed": false
   },
   "outputs": [
    {
     "data": {
      "image/png": "[encoded data removed]",
      "text/plain": [
       "<matplotlib.figure.Figure at 0x15c619cf4a8>"
      ]
     },
     "metadata": {},
     "output_type": "display_data"
    }
   ],
   "source": [
    "# Reference To Plot ROC Curve and Area\n",
    "# http://scikit-learn.org/stable/auto_examples/model_selection/plot_roc.html\n",
    "\n",
    "from scipy import interp\n",
    "from itertools import cycle\n",
    "\n",
    "# Aggregate all false positive rates\n",
    "all_fpr = np.unique(np.concatenate([fpr[i] for i in range(n_classes)]))\n",
    "\n",
    "# Interpolate All ROC Curves \n",
    "mean_tpr = np.zeros_like(all_fpr)\n",
    "for i in range(n_classes):\n",
    "    mean_tpr += interp(all_fpr, fpr[i], tpr[i])\n",
    "\n",
    "# Compute Average\n",
    "mean_tpr /= n_classes\n",
    "\n",
    "# Compute AUC\n",
    "fpr[\"macro\"] = all_fpr\n",
    "tpr[\"macro\"] = mean_tpr\n",
    "roc_auc[\"macro\"] = auc(fpr[\"macro\"], tpr[\"macro\"])\n",
    "\n",
    "# Plot ROC Curve\n",
    "plt.plot(fpr[\"macro\"], tpr[\"macro\"],\n",
    "         label='macro-average ROC curve (area = {0:0.2f})'\n",
    "               ''.format(roc_auc[\"macro\"]),\n",
    "         color='navy', linestyle=':', linewidth=4)\n",
    "\n",
    "plt.plot([0, 1], [0, 1], 'k--', lw=2)\n",
    "plt.xlim([0.0, 1.0])\n",
    "plt.ylim([0.0, 1.05])\n",
    "plt.xlabel('False Positive Rate')\n",
    "plt.ylabel('True Positive Rate')\n",
    "plt.title('Receiver Operating Characteristic of Multi-Class')\n",
    "plt.legend(loc=\"lower right\")\n",
    "plt.show()"
   ]
  },
  {
   "cell_type": "code",
   "execution_count": 27,
   "metadata": {
    "collapsed": false
   },
   "outputs": [
    {
     "name": "stdout",
     "output_type": "stream",
     "text": [
      "ROC_AUC is 0.827 \n"
     ]
    }
   ],
   "source": [
    "# Display Area Under Curve\n",
    "print (\"ROC_AUC is {0:.3f} \".format(roc_auc[\"macro\"]))"
   ]
  }
 ],
 "metadata": {
  "anaconda-cloud": {},
  "kernelspec": {
   "display_name": "Python [Root]",
   "language": "python",
   "name": "Python [Root]"
  },
  "language_info": {
   "codemirror_mode": {
    "name": "ipython",
    "version": 3
   },
   "file_extension": ".py",
   "mimetype": "text/x-python",
   "name": "python",
   "nbconvert_exporter": "python",
   "pygments_lexer": "ipython3",
   "version": "3.5.2"
  }
 },
 "nbformat": 4,
 "nbformat_minor": 2
}
